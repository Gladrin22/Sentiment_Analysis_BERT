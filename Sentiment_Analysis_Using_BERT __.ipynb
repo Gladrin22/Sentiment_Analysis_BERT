{
  "nbformat": 4,
  "nbformat_minor": 0,
  "metadata": {
    "colab": {
      "name": "Sentiment_Analysis_Using_BERT.ipynb",
      "private_outputs": true,
      "provenance": []
    },
    "kernelspec": {
      "name": "python3",
      "display_name": "Python 3"
    },
    "language_info": {
      "name": "python"
    }
  },
  "cells": [
    {
      "cell_type": "markdown",
      "metadata": {
        "id": "tQNAHgJX4Uik"
      },
      "source": [
        "### **Importing the packages**"
      ]
    },
    {
      "cell_type": "code",
      "metadata": {
        "id": "EZawuLmt4O2Q"
      },
      "source": [
        "from transformers import AutoTokenizer as at\n",
        "from transformers import AutoModelForSequenceClassification  as amsc\n",
        "import torch\n",
        "import requests\n",
        "from bs4 import BeautifulSoup\n",
        "import re\n",
        "import pandas as pd\n",
        "import numpy as np\n",
        "import matplotlib.pyplot as plt"
      ],
      "execution_count": null,
      "outputs": []
    },
    {
      "cell_type": "markdown",
      "metadata": {
        "id": "9g_5bpyb5nZe"
      },
      "source": [
        "### **Initiating the pre-trained [BERT] model**"
      ]
    },
    {
      "cell_type": "code",
      "metadata": {
        "id": "D_cVZS1e5Pxo"
      },
      "source": [
        "tokenizer = at.from_pretrained('nlptown/bert-base-multilingual-uncased-sentiment')   #Loading the pre-trained NLP model \n",
        "model = amsc.from_pretrained('nlptown/bert-base-multilingual-uncased-sentiment')"
      ],
      "execution_count": null,
      "outputs": []
    },
    {
      "cell_type": "markdown",
      "metadata": {
        "id": "wCPCnYUn90Gn"
      },
      "source": [
        "###**Analysing , encoding and calculating sentiment. [PIPELINE]**"
      ]
    },
    {
      "cell_type": "code",
      "metadata": {
        "id": "yPABrD9653QX"
      },
      "source": [
        "token = tokenizer.encode(\"I love your service  \",return_tensors='pt') #An example review is passed \"I love your service\".\n",
        "                                                                      #return_tensor='pt' will return tensors instead of list of python integers"
      ],
      "execution_count": null,
      "outputs": []
    },
    {
      "cell_type": "code",
      "metadata": {
        "id": "HjTUsBMB9GnX"
      },
      "source": [
        "result = model(token)  #passing our tokens to our model "
      ],
      "execution_count": null,
      "outputs": []
    },
    {
      "cell_type": "code",
      "metadata": {
        "id": "fPsnkvv39G3-"
      },
      "source": [
        "result.logits   #This is a vector of raw predictions that a classification model generates."
      ],
      "execution_count": null,
      "outputs": []
    },
    {
      "cell_type": "code",
      "metadata": {
        "id": "sQNk7sEn9Gxm"
      },
      "source": [
        "ratings = int(torch.argmax(result.logits)+1)   #using pytorch to normalize the vector of raw predictions\n",
        "print(ratings)"
      ],
      "execution_count": null,
      "outputs": []
    },
    {
      "cell_type": "markdown",
      "metadata": {
        "id": "88cw95AP-9-p"
      },
      "source": [
        "### **Collecting online reviews from websites [WEB SCRAPING] using beautiful soup or you can use freely available datasets**"
      ]
    },
    {
      "cell_type": "code",
      "metadata": {
        "id": "EEbLvPNG9hH5"
      },
      "source": [
        "r = requests.get('https://www.yelp.com/biz/social-brew-cafe-pyrmont')   #I am doing webscraping \n",
        "soup = BeautifulSoup(r.text , 'html.parser')\n",
        "regex = re.compile('.*comment.*')\n",
        "results = soup.find_all('p',{'class':regex})"
      ],
      "execution_count": null,
      "outputs": []
    },
    {
      "cell_type": "code",
      "metadata": {
        "id": "B9ES9HJiC38y"
      },
      "source": [
        "results     #Awesome we got all the reviews but they have some unwanted things with it .we need to clean it ."
      ],
      "execution_count": null,
      "outputs": []
    },
    {
      "cell_type": "code",
      "metadata": {
        "id": "pcOBoE_w5zCX"
      },
      "source": [
        "reviews = [result.text for result in results]\n",
        "reviews   #clear view of data(reviews)"
      ],
      "execution_count": null,
      "outputs": []
    },
    {
      "cell_type": "markdown",
      "metadata": {
        "id": "jmPYnibzdFb_"
      },
      "source": [
        "### **Loading reviews into the data frame**"
      ]
    },
    {
      "cell_type": "code",
      "metadata": {
        "id": "l9H5R1opdTsS"
      },
      "source": [
        "data_frame = pd.DataFrame(np.array(reviews),columns =['Reviews'])    #adding the cleansed data into a dataframe"
      ],
      "execution_count": null,
      "outputs": []
    },
    {
      "cell_type": "code",
      "metadata": {
        "id": "iJ4wP1q5dGbo"
      },
      "source": [
        "data_frame            #see now ! . This looks amazing and structured ."
      ],
      "execution_count": null,
      "outputs": []
    },
    {
      "cell_type": "code",
      "metadata": {
        "id": "1Gprl0S4dBsx"
      },
      "source": [
        "data_frame['Reviews'].iloc[0] #Just viewing "
      ],
      "execution_count": null,
      "outputs": []
    },
    {
      "cell_type": "markdown",
      "metadata": {
        "id": "HMEkYe-celtO"
      },
      "source": [
        "### **Creating a function using the pipeline**"
      ]
    },
    {
      "cell_type": "code",
      "metadata": {
        "id": "TVANQL-Feu2-"
      },
      "source": [
        "def sentiment_analyzer(Reviews):\n",
        "  token = tokenizer.encode(Reviews,return_tensors='pt')             #A function to do the work of our pipeline\n",
        "  result = model(token)            \n",
        "  return int(torch.argmax(result.logits)+1)  "
      ],
      "execution_count": null,
      "outputs": []
    },
    {
      "cell_type": "markdown",
      "metadata": {
        "id": "gORjIkWXfE2J"
      },
      "source": [
        "### **Calling the function  and computing the sentiment score of the customer**"
      ]
    },
    {
      "cell_type": "code",
      "metadata": {
        "id": "NUXJT4UCfKms"
      },
      "source": [
        "sentiment_analyzer(data_frame['Reviews'].iloc[0])  #An illustration for single review.   "
      ],
      "execution_count": null,
      "outputs": []
    },
    {
      "cell_type": "markdown",
      "metadata": {
        "id": "5-X-6RTmg5hq"
      },
      "source": [
        "### **Looping through all the reviews and adding the sentiment scores to the data frame**"
      ]
    },
    {
      "cell_type": "code",
      "metadata": {
        "id": "pyQT0SXcg40_"
      },
      "source": [
        "data_frame['Sentiment_Score'] = data_frame['Reviews'].apply(lambda x: sentiment_analyzer(x[:1000])) "
      ],
      "execution_count": null,
      "outputs": []
    },
    {
      "cell_type": "code",
      "metadata": {
        "id": "9Rn78X0O4oXk"
      },
      "source": [
        "data_frame #final "
      ],
      "execution_count": null,
      "outputs": []
    },
    {
      "cell_type": "markdown",
      "metadata": {
        "id": "9PZCBuBp_qcZ"
      },
      "source": [
        "### **This is it . So we have analyzed and now we have the sentiments of the customers in our dataframe .(1-5) Where , 1 is the worst and 5 is the best .As, you can see above . So, by using this you can do whatever you want, like you can  create awesome visualizations or anything that you want to do .**"
      ]
    }
  ]
}